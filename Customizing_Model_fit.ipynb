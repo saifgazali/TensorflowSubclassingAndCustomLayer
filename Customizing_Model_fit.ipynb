{
  "nbformat": 4,
  "nbformat_minor": 0,
  "metadata": {
    "colab": {
      "name": "Customizing Model fit.ipynb",
      "provenance": []
    },
    "kernelspec": {
      "name": "python3",
      "display_name": "Python 3"
    },
    "language_info": {
      "name": "python"
    }
  },
  "cells": [
    {
      "cell_type": "code",
      "metadata": {
        "id": "aRfhtaFOznoL"
      },
      "source": [
        "import tensorflow as tf\n",
        "from tensorflow import keras\n",
        "from tensorflow.keras import layers\n",
        "from tensorflow.keras.datasets import mnist"
      ],
      "execution_count": null,
      "outputs": []
    },
    {
      "cell_type": "code",
      "metadata": {
        "colab": {
          "base_uri": "https://localhost:8080/"
        },
        "id": "ApcxOJTDzwAL",
        "outputId": "fb58722d-d15c-4735-a830-c1b457b9859a"
      },
      "source": [
        "(Xtrain, ytrain), (Xtest,ytest) = mnist.load_data()"
      ],
      "execution_count": null,
      "outputs": [
        {
          "output_type": "stream",
          "name": "stdout",
          "text": [
            "Downloading data from https://storage.googleapis.com/tensorflow/tf-keras-datasets/mnist.npz\n",
            "11493376/11490434 [==============================] - 0s 0us/step\n",
            "11501568/11490434 [==============================] - 0s 0us/step\n"
          ]
        }
      ]
    },
    {
      "cell_type": "code",
      "metadata": {
        "id": "Px5nXlxwjy2Q"
      },
      "source": [
        "# reshape and normalize\n",
        "Xtrain = Xtrain.reshape(-1,28,28,1).astype(\"float32\") / 255.0\n",
        "Xtest = Xtest.reshape(-1,28,28,1).astype(\"float32\") / 255.0"
      ],
      "execution_count": null,
      "outputs": []
    },
    {
      "cell_type": "code",
      "metadata": {
        "id": "e8f0_JJJzwDG"
      },
      "source": [
        "model = keras.Sequential([\n",
        "            layers.Input(shape=(28,28,1)),\n",
        "            layers.Conv2D(64,3,padding='same'),\n",
        "            layers.ReLU(),\n",
        "            layers.Conv2D(128,3,padding='same'),\n",
        "            layers.ReLU(),\n",
        "            layers.Flatten(),\n",
        "            layers.Dense(10)\n",
        "\n",
        "],name='model')"
      ],
      "execution_count": null,
      "outputs": []
    },
    {
      "cell_type": "markdown",
      "metadata": {
        "id": "RKbaTlLRQQdO"
      },
      "source": [
        "Custom Training "
      ]
    },
    {
      "cell_type": "code",
      "metadata": {
        "id": "I-1xyIA8zwFu"
      },
      "source": [
        "class CustomFit(keras.Model):\n",
        "  def __init__(self,model):\n",
        "    super(CustomFit,self).__init__()\n",
        "    self.model = model\n",
        "  \n",
        "  def train_step(self,data):\n",
        "    x,y = data\n",
        "    #forward propagation\n",
        "    with tf.GradientTape() as tape:\n",
        "      y_pred = self.model(x,training=True)\n",
        "      loss = self.compiled_loss(y,y_pred)\n",
        "\n",
        "    #Getting the gradients\n",
        "    training_vars = self.trainable_variables\n",
        "    gradient = tape.gradient(loss,training_vars) # gradient of loss w.r.t training variables\n",
        "\n",
        "    #optimizer step\n",
        "    self.optimizer.apply_gradients(zip(gradient,training_vars))\n",
        "\n",
        "    #accuracy part\n",
        "    self.compiled_metrics.update_state(y,y_pred)\n",
        "\n",
        "    #returning loss and accuracy metrics\n",
        "    return {m.name : m.result() for m in self.metrics}\n",
        "\n",
        "\n"
      ],
      "execution_count": null,
      "outputs": []
    },
    {
      "cell_type": "code",
      "metadata": {
        "id": "VQdgmYAA73Mu"
      },
      "source": [
        ""
      ],
      "execution_count": null,
      "outputs": []
    },
    {
      "cell_type": "code",
      "metadata": {
        "id": "fwhDkvk6zwIi"
      },
      "source": [
        "training = CustomFit(model)\n",
        "training.compile(\n",
        "    optimizer = keras.optimizers.Adam(),\n",
        "    loss = keras.losses.SparseCategoricalCrossentropy(from_logits=True),\n",
        "    metrics = ['accuracy']\n",
        ")"
      ],
      "execution_count": null,
      "outputs": []
    },
    {
      "cell_type": "code",
      "metadata": {
        "colab": {
          "base_uri": "https://localhost:8080/"
        },
        "id": "A2oNLZXFzwLA",
        "outputId": "dd3fab55-893c-41a1-b0f6-87f8b520b2df"
      },
      "source": [
        "training.fit(Xtrain,ytrain,batch_size=128,epochs=1)"
      ],
      "execution_count": null,
      "outputs": [
        {
          "output_type": "stream",
          "name": "stdout",
          "text": [
            "469/469 [==============================] - 338s 719ms/step - loss: 0.0978 - accuracy: 0.9710\n"
          ]
        },
        {
          "output_type": "execute_result",
          "data": {
            "text/plain": [
              "<keras.callbacks.History at 0x7f469404d6d0>"
            ]
          },
          "metadata": {},
          "execution_count": 20
        }
      ]
    },
    {
      "cell_type": "markdown",
      "metadata": {
        "id": "pN8-8fNiQABT"
      },
      "source": [
        "Custom optimizer, loss and testing step."
      ]
    },
    {
      "cell_type": "code",
      "metadata": {
        "id": "mMc5UhuH74R8"
      },
      "source": [
        ""
      ],
      "execution_count": null,
      "outputs": []
    },
    {
      "cell_type": "code",
      "metadata": {
        "id": "6qBUTAOg74-b"
      },
      "source": [
        "class CustomFit1(keras.Model):\n",
        "  def __init__(self,model):\n",
        "    super(CustomFit1,self).__init__()\n",
        "    self.model = model\n",
        "\n",
        " # Compiling the model \n",
        "  def compile(self,optimizer,loss):\n",
        "    super(CustomFit1,self).compile()\n",
        "    self.optimizer = optimizer\n",
        "    self.loss = loss\n",
        "\n",
        "  #Testing the model\n",
        "  def test_step(self,data):\n",
        "    x,y = data\n",
        "\n",
        "    y_pred = self.model(x,training=False)\n",
        "    loss = self.loss(y,y_pred)\n",
        "    acc_metrics.update_state(y,y_pred)\n",
        "\n",
        "    return {\"loss\":loss,\"accuracy\":acc_metrics.result()}\n",
        "\n",
        "  def train_step(self,data):\n",
        "    x,y = data\n",
        "\n",
        "    #forward propagation\n",
        "    with tf.GradientTape() as tape:\n",
        "      y_pred = self.model(x,training=True)\n",
        "      loss = self.loss(y,y_pred)\n",
        "\n",
        "    #getting the gradient\n",
        "    training_vars = self.trainable_variables\n",
        "    gradients = tape.gradient(loss,training_vars)\n",
        "\n",
        "    #applying gradients optimizer \n",
        "    self.optimizer.apply_gradients(zip(gradients,training_vars))\n",
        "\n",
        "    #calc accuracy\n",
        "    acc_metrics.update_state(y,y_pred)\n",
        "\n",
        "    return {\"loss\":loss, \"accuracy\":acc_metrics.result()}"
      ],
      "execution_count": null,
      "outputs": []
    },
    {
      "cell_type": "code",
      "metadata": {
        "id": "jIDZSTxDAzhj"
      },
      "source": [
        "acc_metrics = keras.metrics.SparseCategoricalAccuracy(name='accuracy')"
      ],
      "execution_count": null,
      "outputs": []
    },
    {
      "cell_type": "code",
      "metadata": {
        "id": "L9rYBWBqCU76"
      },
      "source": [
        "model = keras.Sequential([\n",
        "            layers.Input(shape=(28,28,1)),\n",
        "            layers.Conv2D(64,3,padding='same'),\n",
        "            layers.ReLU(),\n",
        "            layers.Conv2D(128,3,padding='same'),\n",
        "            layers.ReLU(),\n",
        "            layers.Flatten(),\n",
        "            layers.Dense(10)\n",
        "\n",
        "],name='model')"
      ],
      "execution_count": null,
      "outputs": []
    },
    {
      "cell_type": "code",
      "metadata": {
        "id": "ExHTX22w75CA"
      },
      "source": [
        "training1 = CustomFit1(model)\n",
        "training1.compile(\n",
        "    optimizer = keras.optimizers.Adam(),\n",
        "    loss = keras.losses.SparseCategoricalCrossentropy(from_logits=True),\n",
        ")"
      ],
      "execution_count": null,
      "outputs": []
    },
    {
      "cell_type": "code",
      "metadata": {
        "colab": {
          "base_uri": "https://localhost:8080/"
        },
        "id": "SUt7diIQzwOe",
        "outputId": "032418e8-affe-477c-a266-002dc092e402"
      },
      "source": [
        "training1.fit(Xtrain,ytrain,batch_size=128,epochs=1)"
      ],
      "execution_count": null,
      "outputs": [
        {
          "output_type": "stream",
          "name": "stdout",
          "text": [
            "469/469 [==============================] - 338s 720ms/step - loss: 0.1442 - accuracy: 0.9045\n"
          ]
        },
        {
          "output_type": "execute_result",
          "data": {
            "text/plain": [
              "<keras.callbacks.History at 0x7f4696e1e3d0>"
            ]
          },
          "metadata": {},
          "execution_count": 62
        }
      ]
    },
    {
      "cell_type": "code",
      "metadata": {
        "colab": {
          "base_uri": "https://localhost:8080/"
        },
        "id": "_Vj6AObIDCru",
        "outputId": "da714002-8152-49b3-feee-8063742c58c9"
      },
      "source": [
        "training1.evaluate(Xtest,ytest,batch_size=128)"
      ],
      "execution_count": null,
      "outputs": [
        {
          "output_type": "stream",
          "name": "stdout",
          "text": [
            "79/79 [==============================] - 16s 197ms/step - loss: 0.0462 - accuracy: 0.9589\n"
          ]
        },
        {
          "output_type": "execute_result",
          "data": {
            "text/plain": [
              "[0.9609571695327759, 0.0006942173349671066]"
            ]
          },
          "metadata": {},
          "execution_count": 63
        }
      ]
    },
    {
      "cell_type": "code",
      "metadata": {
        "id": "J6r-IPxJDCuo"
      },
      "source": [
        ""
      ],
      "execution_count": null,
      "outputs": []
    },
    {
      "cell_type": "code",
      "metadata": {
        "id": "VC66xr0wDCyE"
      },
      "source": [
        ""
      ],
      "execution_count": null,
      "outputs": []
    },
    {
      "cell_type": "code",
      "metadata": {
        "id": "iLDgbOKm-xUI"
      },
      "source": [
        ""
      ],
      "execution_count": null,
      "outputs": []
    },
    {
      "cell_type": "code",
      "metadata": {
        "id": "c0rX0nC8-xW5"
      },
      "source": [
        ""
      ],
      "execution_count": null,
      "outputs": []
    },
    {
      "cell_type": "code",
      "metadata": {
        "id": "wyTBnnws-xaF"
      },
      "source": [
        ""
      ],
      "execution_count": null,
      "outputs": []
    }
  ]
}