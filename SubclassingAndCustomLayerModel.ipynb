{
  "nbformat": 4,
  "nbformat_minor": 0,
  "metadata": {
    "colab": {
      "name": "SubclassingAndCustomLayerModel.ipynb",
      "provenance": []
    },
    "kernelspec": {
      "name": "python3",
      "display_name": "Python 3"
    },
    "language_info": {
      "name": "python"
    }
  },
  "cells": [
    {
      "cell_type": "code",
      "metadata": {
        "id": "QGJMoAA0gl7x"
      },
      "source": [
        "import tensorflow as tf\n",
        "from tensorflow import keras\n",
        "from tensorflow.keras import layers\n",
        "from tensorflow.keras.datasets import mnist"
      ],
      "execution_count": 58,
      "outputs": []
    },
    {
      "cell_type": "code",
      "metadata": {
        "id": "3v6lFPxOjnt4"
      },
      "source": [
        "(Xtrain, ytrain), (Xtest,ytest) = mnist.load_data()"
      ],
      "execution_count": 59,
      "outputs": []
    },
    {
      "cell_type": "code",
      "metadata": {
        "id": "Px5nXlxwjy2Q"
      },
      "source": [
        "# reshape and normalize\n",
        "Xtrain = Xtrain.reshape(-1,28,28,1).astype(\"float32\") / 255.0\n",
        "Xtest = Xtest.reshape(-1,28,28,1).astype(\"float32\") / 255.0"
      ],
      "execution_count": 60,
      "outputs": []
    },
    {
      "cell_type": "markdown",
      "metadata": {
        "id": "jzUtptdcgtuQ"
      },
      "source": [
        "\n",
        "Model Subclassing\n",
        "\n"
      ]
    },
    {
      "cell_type": "code",
      "metadata": {
        "id": "k378Ukb9gwom"
      },
      "source": [
        "class CNNBlock(layers.Layer): #keep track of everything\n",
        "  def __init__(self,out_channels,kernel_size=3):\n",
        "    super(CNNBlock,self).__init__()\n",
        "    self.conv = layers.Conv2D(out_channels,kernel_size,padding='same')\n",
        "    self.bn = layers.BatchNormalization()\n",
        "  \n",
        "  #creating cnn -> batchnorm -> relu block\n",
        "  def call(self, input_tensor, training=False):\n",
        "    #running the input_tensor through the layers\n",
        "    x = self.conv(input_tensor)\n",
        "    x = self.bn(x, training=training)\n",
        "    x = tf.nn.relu(x)\n",
        "    return x\n",
        "\n",
        "\n",
        "model = keras.Sequential([\n",
        "              CNNBlock(32),\n",
        "              CNNBlock(64),\n",
        "              CNNBlock(128),\n",
        "              layers.Flatten(),\n",
        "              layers.Dense(10)  #output layer\n",
        "])\n",
        "\n"
      ],
      "execution_count": 61,
      "outputs": []
    },
    {
      "cell_type": "code",
      "metadata": {
        "id": "teRQOT63jeld"
      },
      "source": [
        "model.compile(\n",
        "    optimizer=keras.optimizers.Adam(),\n",
        "    loss=keras.losses.SparseCategoricalCrossentropy(from_logits=True),\n",
        "    metrics = [\"accuracy\"]\n",
        ")"
      ],
      "execution_count": 62,
      "outputs": []
    },
    {
      "cell_type": "code",
      "metadata": {
        "colab": {
          "base_uri": "https://localhost:8080/"
        },
        "id": "448hoKQCkVlU",
        "outputId": "6995098d-f3a4-4271-cf3a-e8542f9b14ca"
      },
      "source": [
        "model.fit(Xtrain,ytrain,batch_size=64,epochs=1)"
      ],
      "execution_count": 63,
      "outputs": [
        {
          "output_type": "stream",
          "name": "stdout",
          "text": [
            "938/938 [==============================] - 730s 778ms/step - loss: 0.5410 - accuracy: 0.9466\n"
          ]
        },
        {
          "output_type": "execute_result",
          "data": {
            "text/plain": [
              "<keras.callbacks.History at 0x7fc1e89c7410>"
            ]
          },
          "metadata": {},
          "execution_count": 63
        }
      ]
    },
    {
      "cell_type": "code",
      "metadata": {
        "colab": {
          "base_uri": "https://localhost:8080/"
        },
        "id": "qVrvxNT1kcoZ",
        "outputId": "eb737a5f-47f8-4b37-9bd3-574c242e9aa9"
      },
      "source": [
        "model.evaluate(Xtest,ytest,batch_size=64)"
      ],
      "execution_count": 64,
      "outputs": [
        {
          "output_type": "stream",
          "name": "stdout",
          "text": [
            "157/157 [==============================] - 31s 195ms/step - loss: 0.2028 - accuracy: 0.9680\n"
          ]
        },
        {
          "output_type": "execute_result",
          "data": {
            "text/plain": [
              "[0.2028096616268158, 0.9679999947547913]"
            ]
          },
          "metadata": {},
          "execution_count": 64
        }
      ]
    },
    {
      "cell_type": "code",
      "metadata": {
        "id": "v1szDudMi1nL"
      },
      "source": [
        ""
      ],
      "execution_count": null,
      "outputs": []
    },
    {
      "cell_type": "markdown",
      "metadata": {
        "id": "QN5-gCbslVab"
      },
      "source": [
        "Creating Resnet like model structure. "
      ]
    },
    {
      "cell_type": "code",
      "metadata": {
        "id": "IvdlZ_75kjmX"
      },
      "source": [
        "class Resblock(layers.Layer):\n",
        "  def __init__(self,channels):\n",
        "    super(Resblock,self).__init__()\n",
        "    self.cnn1 = CNNBlock(channels[0],3)\n",
        "    self.cnn2 = CNNBlock(channels[1],3)\n",
        "    self.cnn3 = CNNBlock(channels[2],3)\n",
        "    self.pooling = layers.MaxPooling2D()\n",
        "    self.identity_mapping = layers.Conv2D(channels[1],1,padding='same')\n",
        "\n",
        "  def call(self,input_tensor,training=False):\n",
        "    x = self.cnn1(input_tensor,training=training)\n",
        "    x = self.cnn2(x,training=training)\n",
        "    x = self.cnn3(\n",
        "        x + self.identity_mapping(input_tensor),training=training\n",
        "        )\n",
        "    return self.pooling(x)"
      ],
      "execution_count": 65,
      "outputs": []
    },
    {
      "cell_type": "code",
      "metadata": {
        "id": "ZXo-4bh-mpZd"
      },
      "source": [
        "class Resnet_Like(keras.Model):\n",
        "  def __init__(self,num_classes=10):\n",
        "    super(Resnet_Like,self).__init__()\n",
        "    self.block1 = Resblock([32,32,64])\n",
        "    self.block2 = Resblock([128,128,256])\n",
        "    self.block3 = Resblock([128,256,512])\n",
        "    self.pool = layers.GlobalAveragePooling2D()\n",
        "    self.classifier = layers.Dense(num_classes)\n",
        "  \n",
        "  def call(self,input_tensor,training=False):\n",
        "    x = self.block1(input_tensor, training=training)\n",
        "    x = self.block2(x,training=training)\n",
        "    x = self.block3(x,training=training)\n",
        "    x = self.pool(x)\n",
        "    return self.classifier(x)\n",
        "\n",
        "  "
      ],
      "execution_count": 66,
      "outputs": []
    },
    {
      "cell_type": "code",
      "metadata": {
        "id": "QxfPQif7oILv"
      },
      "source": [
        "model = Resnet_Like(num_classes=10)"
      ],
      "execution_count": 67,
      "outputs": []
    },
    {
      "cell_type": "code",
      "metadata": {
        "id": "vHxq-4BHunPX"
      },
      "source": [
        ""
      ],
      "execution_count": null,
      "outputs": []
    },
    {
      "cell_type": "code",
      "metadata": {
        "id": "WABJXv7EoIPY"
      },
      "source": [
        "model.compile(keras.optimizers.Adam(),\n",
        "              loss = keras.losses.SparseCategoricalCrossentropy(from_logits=True),\n",
        "              metrics=['accuracy'])\n"
      ],
      "execution_count": 68,
      "outputs": []
    },
    {
      "cell_type": "code",
      "metadata": {
        "colab": {
          "base_uri": "https://localhost:8080/"
        },
        "id": "ZCX_-FGLon9l",
        "outputId": "adff2b19-1ee3-4e9a-ed3d-9781883f2cbf"
      },
      "source": [
        "model.fit(Xtrain,ytrain,batch_size=64,epochs=1)"
      ],
      "execution_count": 63,
      "outputs": [
        {
          "output_type": "stream",
          "name": "stdout",
          "text": [
            "938/938 [==============================] - 2072s 2s/step - loss: 0.0839 - accuracy: 0.9750\n"
          ]
        },
        {
          "output_type": "execute_result",
          "data": {
            "text/plain": [
              "<keras.callbacks.History at 0x7f10abaa5910>"
            ]
          },
          "metadata": {},
          "execution_count": 63
        }
      ]
    },
    {
      "cell_type": "code",
      "metadata": {
        "id": "_qjQzpaseYDQ"
      },
      "source": [
        "# reshape and normalize\n",
        "Xtrain = Xtrain.reshape(-1,28*28).astype(\"float32\") / 255.0\n",
        "Xtest = Xtest.reshape(-1,28*28).astype(\"float32\") / 255.0"
      ],
      "execution_count": 7,
      "outputs": []
    },
    {
      "cell_type": "markdown",
      "metadata": {
        "id": "KZxx9kaRcjP-"
      },
      "source": [
        "  Custom Layers"
      ]
    },
    {
      "cell_type": "code",
      "metadata": {
        "id": "UmB22VrFoitp"
      },
      "source": [
        "class MyModel(keras.Model):\n",
        "  def __init__(self,num_classes=10):\n",
        "    super(MyModel,self).__init__()\n",
        "    self.dense1 = layers.Dense(64)\n",
        "    self.dense2 = layers.Dense(num_classes)\n",
        "  \n",
        "  def call(self,input_tensor):\n",
        "    x = tf.nn.relu(self.dense1(input_tensor))\n",
        "    return self.dense2(x)\n",
        "\n",
        "  "
      ],
      "execution_count": 4,
      "outputs": []
    },
    {
      "cell_type": "code",
      "metadata": {
        "id": "UUHcTDh7cl6M"
      },
      "source": [
        "model = MyModel()\n",
        "model.compile(optimizer=keras.optimizers.Adam(),\n",
        "              loss = keras.losses.SparseCategoricalCrossentropy(from_logits=True),\n",
        "              metrics = ['accuracy'])\n"
      ],
      "execution_count": 8,
      "outputs": []
    },
    {
      "cell_type": "code",
      "metadata": {
        "colab": {
          "base_uri": "https://localhost:8080/"
        },
        "id": "6YjwRkH4dubK",
        "outputId": "9cf1c558-a190-4c92-d0bd-709ccaa9f871"
      },
      "source": [
        "model.fit(Xtrain,ytrain,batch_size=64,epochs=3)"
      ],
      "execution_count": 11,
      "outputs": [
        {
          "output_type": "stream",
          "name": "stdout",
          "text": [
            "Epoch 1/3\n",
            "938/938 [==============================] - 2s 2ms/step - loss: 0.5989 - accuracy: 0.8536\n",
            "Epoch 2/3\n",
            "938/938 [==============================] - 2s 2ms/step - loss: 0.4691 - accuracy: 0.8787\n",
            "Epoch 3/3\n",
            "938/938 [==============================] - 2s 2ms/step - loss: 0.4064 - accuracy: 0.8908\n"
          ]
        },
        {
          "output_type": "execute_result",
          "data": {
            "text/plain": [
              "<keras.callbacks.History at 0x7fc1e602d650>"
            ]
          },
          "metadata": {},
          "execution_count": 11
        }
      ]
    },
    {
      "cell_type": "code",
      "metadata": {
        "colab": {
          "base_uri": "https://localhost:8080/"
        },
        "id": "rfSvMSgUdueK",
        "outputId": "8d6d0323-6074-41e5-8720-d3a3a95c31de"
      },
      "source": [
        "model.evaluate(Xtest,ytest,batch_size=64)"
      ],
      "execution_count": 12,
      "outputs": [
        {
          "output_type": "stream",
          "name": "stdout",
          "text": [
            "157/157 [==============================] - 0s 2ms/step - loss: 0.3722 - accuracy: 0.8997\n"
          ]
        },
        {
          "output_type": "execute_result",
          "data": {
            "text/plain": [
              "[0.3721504807472229, 0.8996999859809875]"
            ]
          },
          "metadata": {},
          "execution_count": 12
        }
      ]
    },
    {
      "cell_type": "markdown",
      "metadata": {
        "id": "dOSjfqvMk6X7"
      },
      "source": [
        "Creating Custom Dense Layer"
      ]
    },
    {
      "cell_type": "code",
      "metadata": {
        "id": "dz6N3jkqe1BT"
      },
      "source": [
        "class Dense(layers.Layer):\n",
        "  def __init__(self,units,input_dim):\n",
        "    super(Dense,self).__init__()\n",
        "    self.w = self.add_weight(\n",
        "        name='w',\n",
        "        shape=(input_dim,units),\n",
        "        initializer='random_normal',\n",
        "        trainable=True,\n",
        "    )\n",
        "\n",
        "    self.b = self.add_weight(\n",
        "        name='b', \n",
        "        shape=(units,),\n",
        "        initializer='zeros',\n",
        "        trainable=True\n",
        "    )\n",
        "  \n",
        "  def call(self,inputs):\n",
        "    return tf.matmul(inputs, self.w) + self.b\n"
      ],
      "execution_count": 21,
      "outputs": []
    },
    {
      "cell_type": "code",
      "metadata": {
        "id": "ek07_wpzduk9"
      },
      "source": [
        "class MyModel1(keras.Model):\n",
        "  def __init__(self,num_classes=10):\n",
        "    super(MyModel1,self).__init__()\n",
        "    self.dense1 = Dense(64,784)\n",
        "    self.dense2 = Dense(10,64)\n",
        "  \n",
        "  def call(self,input_tensor):\n",
        "    x = tf.nn.relu(self.dense1(input_tensor))\n",
        "    return self.dense2(x)"
      ],
      "execution_count": 27,
      "outputs": []
    },
    {
      "cell_type": "code",
      "metadata": {
        "id": "ab2RnCiJcl9U"
      },
      "source": [
        "model1 = MyModel1()"
      ],
      "execution_count": 30,
      "outputs": []
    },
    {
      "cell_type": "code",
      "metadata": {
        "id": "TFuaWMW4go5F"
      },
      "source": [
        "model1.compile(optimizer=keras.optimizers.Adam(),\n",
        "               loss=keras.losses.SparseCategoricalCrossentropy(from_logits=True),\n",
        "               metrics=['accuracy'])"
      ],
      "execution_count": 32,
      "outputs": []
    },
    {
      "cell_type": "code",
      "metadata": {
        "colab": {
          "base_uri": "https://localhost:8080/"
        },
        "id": "xwCpkLNWgo8N",
        "outputId": "d4b00975-613c-4090-ff24-34e16bb0ebd5"
      },
      "source": [
        "model1.fit(Xtrain,ytrain,batch_size=32,epochs=3)"
      ],
      "execution_count": 33,
      "outputs": [
        {
          "output_type": "stream",
          "name": "stdout",
          "text": [
            "Epoch 1/3\n",
            "1875/1875 [==============================] - 4s 2ms/step - loss: 1.4638 - accuracy: 0.5976\n",
            "Epoch 2/3\n",
            "1875/1875 [==============================] - 3s 2ms/step - loss: 0.6978 - accuracy: 0.8166\n",
            "Epoch 3/3\n",
            "1875/1875 [==============================] - 4s 2ms/step - loss: 0.5069 - accuracy: 0.8640\n"
          ]
        },
        {
          "output_type": "execute_result",
          "data": {
            "text/plain": [
              "<keras.callbacks.History at 0x7fc1e8d44610>"
            ]
          },
          "metadata": {},
          "execution_count": 33
        }
      ]
    },
    {
      "cell_type": "code",
      "metadata": {
        "colab": {
          "base_uri": "https://localhost:8080/"
        },
        "id": "F8yF9sxNiKXh",
        "outputId": "0cd672a4-b477-44f7-8ca6-5bee632b16b1"
      },
      "source": [
        "model1.evaluate(Xtest,ytest,batch_size=32)"
      ],
      "execution_count": 34,
      "outputs": [
        {
          "output_type": "stream",
          "name": "stdout",
          "text": [
            "313/313 [==============================] - 1s 2ms/step - loss: 0.4436 - accuracy: 0.8786\n"
          ]
        },
        {
          "output_type": "execute_result",
          "data": {
            "text/plain": [
              "[0.4435982406139374, 0.878600001335144]"
            ]
          },
          "metadata": {},
          "execution_count": 34
        }
      ]
    },
    {
      "cell_type": "markdown",
      "metadata": {
        "id": "89T1cfh6iaXQ"
      },
      "source": [
        "Updating our model such that it works regardless of the input dimension"
      ]
    },
    {
      "cell_type": "code",
      "metadata": {
        "id": "l_GNUAKkiZvo"
      },
      "source": [
        "class Dense(layers.Layer):\n",
        "  def __init__(self,units):\n",
        "    super(Dense,self).__init__()\n",
        "    self.units = units\n",
        "  \n",
        "  def build(self,input_shape):\n",
        "    self.w = self.add_weight(\n",
        "        name='w',\n",
        "        shape=(input_shape[-1],self.units),\n",
        "        initializer='random_normal',\n",
        "        trainable=True,\n",
        "    )\n",
        "\n",
        "    self.b = self.add_weight(\n",
        "        name='b', \n",
        "        shape=(self.units),\n",
        "        initializer='zeros',\n",
        "        trainable=True\n",
        "    )\n",
        "\n",
        "  def call(self,inputs):\n",
        "    return tf.matmul(inputs, self.w) + self.b"
      ],
      "execution_count": 53,
      "outputs": []
    },
    {
      "cell_type": "code",
      "metadata": {
        "id": "EdisD70ycmAv"
      },
      "source": [
        "class MyModel2(keras.Model):\n",
        "  def __init__(self,num_classes=10):\n",
        "    super(MyModel2,self).__init__()\n",
        "    self.dense1 = Dense(64)\n",
        "    self.dense2 = Dense(10)\n",
        "  \n",
        "  def call(self,input_tensor):\n",
        "    x = tf.nn.relu(self.dense1(input_tensor))\n",
        "    return self.dense2(x)"
      ],
      "execution_count": 49,
      "outputs": []
    },
    {
      "cell_type": "code",
      "metadata": {
        "id": "ep1LC2bvjDL3"
      },
      "source": [
        "model2 = MyModel2()"
      ],
      "execution_count": 54,
      "outputs": []
    },
    {
      "cell_type": "code",
      "metadata": {
        "id": "LVzwtRKnjDPV"
      },
      "source": [
        "model2.compile(optimizer=keras.optimizers.Adam(),\n",
        "               loss=keras.losses.SparseCategoricalCrossentropy(from_logits=True),\n",
        "               metrics=['accuracy'])"
      ],
      "execution_count": 55,
      "outputs": []
    },
    {
      "cell_type": "code",
      "metadata": {
        "colab": {
          "base_uri": "https://localhost:8080/"
        },
        "id": "WWB4KpuNjRu8",
        "outputId": "0bec29a8-3f35-418b-997e-ae57b4e70846"
      },
      "source": [
        "model2.fit(Xtrain,ytrain,batch_size=32,epochs=3)"
      ],
      "execution_count": 56,
      "outputs": [
        {
          "output_type": "stream",
          "name": "stdout",
          "text": [
            "Epoch 1/3\n",
            "1875/1875 [==============================] - 4s 2ms/step - loss: 1.3236 - accuracy: 0.6550\n",
            "Epoch 2/3\n",
            "1875/1875 [==============================] - 3s 2ms/step - loss: 0.5843 - accuracy: 0.8467\n",
            "Epoch 3/3\n",
            "1875/1875 [==============================] - 3s 2ms/step - loss: 0.4377 - accuracy: 0.8811\n"
          ]
        },
        {
          "output_type": "execute_result",
          "data": {
            "text/plain": [
              "<keras.callbacks.History at 0x7fc1e8b97c90>"
            ]
          },
          "metadata": {},
          "execution_count": 56
        }
      ]
    },
    {
      "cell_type": "code",
      "metadata": {
        "colab": {
          "base_uri": "https://localhost:8080/"
        },
        "id": "SHCiXZaCkN28",
        "outputId": "82b5fa26-9f48-43af-fbc2-c399eb50abc2"
      },
      "source": [
        "model2.evaluate(Xtest,ytest,batch_size=32)"
      ],
      "execution_count": 57,
      "outputs": [
        {
          "output_type": "stream",
          "name": "stdout",
          "text": [
            "313/313 [==============================] - 1s 1ms/step - loss: 0.3873 - accuracy: 0.8950\n"
          ]
        },
        {
          "output_type": "execute_result",
          "data": {
            "text/plain": [
              "[0.38734304904937744, 0.8949999809265137]"
            ]
          },
          "metadata": {},
          "execution_count": 57
        }
      ]
    },
    {
      "cell_type": "code",
      "metadata": {
        "id": "jBlz13ZMjRyd"
      },
      "source": [
        ""
      ],
      "execution_count": null,
      "outputs": []
    },
    {
      "cell_type": "code",
      "metadata": {
        "id": "k_vH5IEljR0w"
      },
      "source": [
        ""
      ],
      "execution_count": null,
      "outputs": []
    }
  ]
}